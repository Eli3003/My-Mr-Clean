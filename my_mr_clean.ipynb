{
 "cells": [
  {
   "cell_type": "code",
   "execution_count": 1,
   "id": "e6e0beb2",
   "metadata": {},
   "outputs": [
    {
     "name": "stdout",
     "output_type": "stream",
     "text": [
      "Collecting seaborn\n",
      "  Downloading seaborn-0.11.2-py3-none-any.whl (292 kB)\n",
      "     |████████████████████████████████| 292 kB 13.8 MB/s            \n",
      "\u001b[?25hRequirement already satisfied: scipy>=1.0 in /home/docode/.pyenv/versions/3.6.7/lib/python3.6/site-packages (from seaborn) (1.5.4)\n",
      "Requirement already satisfied: matplotlib>=2.2 in /home/docode/.pyenv/versions/3.6.7/lib/python3.6/site-packages (from seaborn) (3.3.4)\n",
      "Requirement already satisfied: numpy>=1.15 in /home/docode/.pyenv/versions/3.6.7/lib/python3.6/site-packages (from seaborn) (1.19.5)\n",
      "Requirement already satisfied: pandas>=0.23 in /home/docode/.pyenv/versions/3.6.7/lib/python3.6/site-packages (from seaborn) (1.1.5)\n",
      "Requirement already satisfied: pyparsing!=2.0.4,!=2.1.2,!=2.1.6,>=2.0.3 in /home/docode/.pyenv/versions/3.6.7/lib/python3.6/site-packages (from matplotlib>=2.2->seaborn) (3.0.7)\n",
      "Requirement already satisfied: python-dateutil>=2.1 in /home/docode/.pyenv/versions/3.6.7/lib/python3.6/site-packages (from matplotlib>=2.2->seaborn) (2.8.2)\n",
      "Requirement already satisfied: pillow>=6.2.0 in /home/docode/.pyenv/versions/3.6.7/lib/python3.6/site-packages (from matplotlib>=2.2->seaborn) (8.4.0)\n",
      "Requirement already satisfied: cycler>=0.10 in /home/docode/.pyenv/versions/3.6.7/lib/python3.6/site-packages (from matplotlib>=2.2->seaborn) (0.11.0)\n",
      "Requirement already satisfied: kiwisolver>=1.0.1 in /home/docode/.pyenv/versions/3.6.7/lib/python3.6/site-packages (from matplotlib>=2.2->seaborn) (1.3.1)\n",
      "Requirement already satisfied: pytz>=2017.2 in /home/docode/.pyenv/versions/3.6.7/lib/python3.6/site-packages (from pandas>=0.23->seaborn) (2022.1)\n",
      "Requirement already satisfied: six>=1.5 in /home/docode/.pyenv/versions/3.6.7/lib/python3.6/site-packages (from python-dateutil>=2.1->matplotlib>=2.2->seaborn) (1.16.0)\n",
      "Installing collected packages: seaborn\n",
      "Successfully installed seaborn-0.11.2\n",
      "Note: you may need to restart the kernel to use updated packages.\n"
     ]
    }
   ],
   "source": [
    "%pip install seaborn"
   ]
  },
  {
   "cell_type": "code",
   "execution_count": 3,
   "id": "e63f098a",
   "metadata": {},
   "outputs": [],
   "source": [
    "import requests\n",
    "import re\n",
    "import seaborn as sns"
   ]
  },
  {
   "cell_type": "code",
   "execution_count": 4,
   "id": "22fd2255",
   "metadata": {},
   "outputs": [],
   "source": [
    "def get_content(article_name):\n",
    "  url = \"https://en.wikipedia.org/w/api.php\"\n",
    "  params = {'action':'query', 'prop':'extracts', 'titles':article_name, 'format':'json'}\n",
    "  response = requests.get(url, params = params)\n",
    "  json_data = response.json()\n",
    "  return json_data['query']['pages']['22834']['extract']"
   ]
  },
  {
   "cell_type": "code",
   "execution_count": 5,
   "id": "f96523d0",
   "metadata": {},
   "outputs": [],
   "source": [
    "data = get_content(\"Ozone_layer\")"
   ]
  },
  {
   "cell_type": "code",
   "execution_count": 6,
   "id": "53a38721",
   "metadata": {},
   "outputs": [],
   "source": [
    "def merge_contents(data):\n",
    "  html = re.compile('<.*?>')\n",
    "  clean = re.sub(html,'', data)\n",
    "  soft_text = re.split(\"\\. |, |\\.|\\n| |-|\\'\", clean)\n",
    "  return soft_text\n",
    "  \n",
    "merge_content = merge_contents(data)"
   ]
  },
  {
   "cell_type": "code",
   "execution_count": 7,
   "id": "ac21cf9f",
   "metadata": {},
   "outputs": [],
   "source": [
    "def tokenize(content):\n",
    "  special_char_rm = [word for word in content if word.isalnum()]\n",
    "  num_rm = [word for word in special_char_rm if not word.isdigit()]\n",
    "  return num_rm"
   ]
  },
  {
   "cell_type": "code",
   "execution_count": 8,
   "id": "e9e8604a",
   "metadata": {},
   "outputs": [],
   "source": [
    "collection = tokenize(merge_content)"
   ]
  },
  {
   "cell_type": "code",
   "execution_count": 9,
   "id": "db15ce16",
   "metadata": {},
   "outputs": [],
   "source": [
    "def lower_collection(collection):\n",
    "  return [word.lower() for word in collection]"
   ]
  },
  {
   "cell_type": "code",
   "execution_count": 10,
   "id": "0337a41f",
   "metadata": {},
   "outputs": [],
   "source": [
    "low_text = lower_collection(collection)"
   ]
  },
  {
   "cell_type": "code",
   "execution_count": 20,
   "id": "96c034c5",
   "metadata": {},
   "outputs": [
    {
     "name": "stdout",
     "output_type": "stream",
     "text": [
      "the: 214\n",
      "of: 108\n",
      "ozone: 94\n",
      "and: 84\n",
      "in: 72\n",
      "to: 68\n",
      "is: 39\n",
      "a: 35\n",
      "layer: 27\n",
      "by: 25\n",
      "s: 24\n",
      "that: 21\n",
      "was: 18\n",
      "for: 17\n",
      "are: 17\n",
      "radiation: 16\n",
      "uv: 16\n",
      "be: 15\n",
      "about: 14\n",
      "from: 14\n"
     ]
    }
   ],
   "source": [
    "def count_frequency(collection):\n",
    "  frequency = {}\n",
    "  for word in collection:\n",
    "    if word in frequency:\n",
    "      frequency[word] += 1\n",
    "    else:\n",
    "      frequency[word] = 1\n",
    "  return frequency\n",
    "\n",
    "\n",
    "def sort_frequency(collection):\n",
    "  frequencies = {k:v for k,v in sorted(collection.items(), \n",
    "                 key = lambda item: item[1],\n",
    "                 reverse = True)}\n",
    "  return frequencies\n",
    "\n",
    "\n",
    "def print_most_frequent(frequencies, n):\n",
    "  frequencies = sort_frequency(freq_of_words)\n",
    "  words = 0\n",
    "  for (k, v) in frequencies.items():\n",
    "    if words < n:\n",
    "      words += 1\n",
    "      print(f\"{k}: {v}\")\n",
    "\n",
    "freq_of_words = count_frequency(low_text)\n",
    "sorted_words = sort_frequency(freq_of_words)\n",
    "frequencies = count_frequency(collection)\n",
    "print_most_frequent(frequencies, 20)"
   ]
  },
  {
   "cell_type": "code",
   "execution_count": 13,
   "id": "d7b3009f",
   "metadata": {},
   "outputs": [
    {
     "data": {
      "text/plain": [
       "[Text(0.5, 1.0, 'Most Common Tokens in the Ozone layer article')]"
      ]
     },
     "execution_count": 13,
     "metadata": {},
     "output_type": "execute_result"
    },
    {
     "data": {
      "image/png": "[encoded data removed]",
      "text/plain": [
       "<Figure size 432x288 with 1 Axes>"
      ]
     },
     "metadata": {
      "needs_background": "light"
     },
     "output_type": "display_data"
    }
   ],
   "source": [
    "amount = [v for k,v in sorted_words.items()]\n",
    "words = [k for k,v in sorted_words.items()]\n",
    "sns.barplot(x = amount[0:20] , y = words[0:20]).set(title = 'Most Common Tokens in the Ozone layer article')"
   ]
  },
  {
   "cell_type": "code",
   "execution_count": 14,
   "id": "b7dabb4a",
   "metadata": {},
   "outputs": [],
   "source": [
    "stop_words = ['the', 'of', 'and', 'in', 'a', 'is', 'an', 'small', 'for', 'on', 'than', 'realation',\n",
    "              'which', 'by', 'less', 'over', 'per', 'with', 'that', 'was', 'are', 'at', 'million',\n",
    "              'all', 'to', 's', 'uv', 'be', 'or', 'most', 'it', 'o', 'still', 'other', 'although', \n",
    "              'contains', 'parts', 'as', 'while', 'high', 'whole', 'about', 'from', 'lower', 'found',\n",
    "              'portion', 'mainly', 'its', 'relation', 'have', 'this', 'has', 'm', 'into', 'can', 'out', \n",
    "              'being', 'were', 'used', 'these', 'also', 'between', 'because', 'united', 'nations', 'd']"
   ]
  },
  {
   "cell_type": "code",
   "execution_count": 17,
   "id": "99e3d690",
   "metadata": {},
   "outputs": [],
   "source": [
    "def remove_stop_words(words, stop_words):\n",
    "  return [word for word in words if word not in stop_words]\n",
    "\n",
    "filtered_collection = remove_stop_words(low_text, stop_words)\n",
    "counted_filtered_collection = count_frequency(filtered_collection)\n",
    "sorted_filtered_collection = sort_frequency(counted_filtered_collection)"
   ]
  },
  {
   "cell_type": "code",
   "execution_count": 26,
   "id": "e830383a",
   "metadata": {},
   "outputs": [
    {
     "data": {
      "text/plain": [
       "[Text(0.5, 1.0, 'The 25 Most frequent words in the filtered collection')]"
      ]
     },
     "execution_count": 26,
     "metadata": {},
     "output_type": "execute_result"
    },
    {
     "data": {
      "image/png": "[encoded data removed]",
      "text/plain": [
       "<Figure size 432x288 with 1 Axes>"
      ]
     },
     "metadata": {
      "needs_background": "light"
     },
     "output_type": "display_data"
    }
   ],
   "source": [
    "filtered_amount = [v for k,v in sorted_filtered_collection.items()]\n",
    "filtered_words = [k for k,v in sorted_filtered_collection.items()]\n",
    "sns.barplot(x = filtered_amount[0:20] , y = filtered_words[0:20]).set(title = 'The 25 Most frequent words in the filtered collection')"
   ]
  },
  {
   "cell_type": "code",
   "execution_count": null,
   "id": "0b55a8f7",
   "metadata": {},
   "outputs": [],
   "source": []
  }
 ],
 "metadata": {
  "kernelspec": {
   "display_name": "Python 3",
   "language": "python",
   "name": "python3"
  },
  "language_info": {
   "codemirror_mode": {
    "name": "ipython",
    "version": 3
   },
   "file_extension": ".py",
   "mimetype": "text/x-python",
   "name": "python",
   "nbconvert_exporter": "python",
   "pygments_lexer": "ipython3",
   "version": "3.6.7"
  }
 },
 "nbformat": 4,
 "nbformat_minor": 5
}
